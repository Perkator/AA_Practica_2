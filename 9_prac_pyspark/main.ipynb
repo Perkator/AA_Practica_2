{
 "cells": [
  {
   "cell_type": "code",
   "execution_count": null,
   "id": "4c9ee413-a332-4e20-855b-e7e0ec1e2259",
   "metadata": {},
   "outputs": [
    {
     "ename": "",
     "evalue": "",
     "output_type": "error",
     "traceback": [
      "\u001b[1;31mLa ejecución de celdas con '/bin/python3' requiere el paquete ipykernel.\n",
      "\u001b[1;31mRun the following command to install 'ipykernel' into the Python environment. \n",
      "\u001b[1;31mCommand: '/bin/python3 -m pip install ipykernel -U --user --force-reinstall'"
     ]
    }
   ],
   "source": [
    "# Ejemplo básico de PySpark en un notebook\n",
    "from pyspark.sql import SparkSession\n",
    "from pyspark.sql.functions import col\n",
    "\n",
    "# Crear una sesión Spark\n",
    "spark = SparkSession.builder.appName(\"mi_aplicacion\").getOrCreate()\n",
    "\n",
    "# Cargar datos\n",
    "df_users = spark.read.csv(\"user_age.csv\",header = True, inferSchema=True)\n",
    "df_yoga = spark.read.csv(\"session_yoga.csv\",header = True, inferSchema=True)\n",
    "df_spi = spark.read.csv(\"session_Spinning.csv\",header = True, inferSchema=True)\n",
    "df_pila = spark.read.csv(\"session_Pilates.csv\",header = True, inferSchema=True)"
   ]
  },
  {
   "cell_type": "code",
   "execution_count": null,
   "id": "47407cc4-f3ea-4d82-9497-cbeeed6f8ed3",
   "metadata": {},
   "outputs": [
    {
     "data": {
      "text/plain": [
       "['Usuario23',\n",
       " 'Usuario9',\n",
       " 'Usuario20',\n",
       " 'Usuario17',\n",
       " 'Usuario0',\n",
       " 'Usuario27',\n",
       " 'Usuario38',\n",
       " 'Usuario8',\n",
       " 'Usuario4',\n",
       " 'Usuario22',\n",
       " 'Usuario34',\n",
       " 'Usuario35',\n",
       " 'Usuario11',\n",
       " 'Usuario29',\n",
       " 'Usuario33',\n",
       " 'Usuario18']"
      ]
     },
     "execution_count": 6,
     "metadata": {},
     "output_type": "execute_result"
    }
   ],
   "source": [
    "# Obtener los usuarios que tengan más de 60 años o que tengan menos de 18\n",
    "usuarios_filtrados = df_users.filter((df_users[\"edad\"] > 60) | (df_users[\"edad\"] < 18)).select(\"user\")\n",
    "nombres_de_usuarios = [row.user for row in usuarios_filtrados.collect()]\n",
    "nombres_de_usuarios"
   ]
  },
  {
   "cell_type": "code",
   "execution_count": null,
   "id": "cf83950c-2ee7-4d19-82ca-e5734cecf322",
   "metadata": {},
   "outputs": [],
   "source": [
    "# Ahora procedemos a filtrar los dataframes\n",
    "df_users = df_users.filter(~col(\"user\").isin(nombres_de_usuarios))\n",
    "df_yoga = df_yoga.filter(~col(\"user\").isin(nombres_de_usuarios))\n",
    "df_spi = df_spi.filter(~col(\"user\").isin(nombres_de_usuarios))\n",
    "df_pila = df_pila.filter(~col(\"user\").isin(nombres_de_usuarios))"
   ]
  },
  {
   "cell_type": "code",
   "execution_count": null,
   "id": "f4cd804f-c8e0-4707-ae01-11e0a4f4a9e5",
   "metadata": {},
   "outputs": [
    {
     "name": "stdout",
     "output_type": "stream",
     "text": [
      "+----+-----+\n",
      "|edad|count|\n",
      "+----+-----+\n",
      "|  18|   12|\n",
      "|  19|    9|\n",
      "|  20|   18|\n",
      "|  22|   10|\n",
      "|  27|   14|\n",
      "|  29|    7|\n",
      "|  30|    7|\n",
      "|  36|   12|\n",
      "|  37|    6|\n",
      "|  38|   10|\n",
      "|  39|   17|\n",
      "|  42|   20|\n",
      "|  43|   10|\n",
      "|  44|    9|\n",
      "|  47|    9|\n",
      "|  50|   10|\n",
      "|  51|    8|\n",
      "|  52|   11|\n",
      "|  55|   21|\n",
      "+----+-----+\n",
      "\n"
     ]
    }
   ],
   "source": [
    "# Cambiamos el usuario por la edad correspondiente en cada dataframe\n",
    "df_yoga = df_yoga.join(df_users, \"user\", \"left_outer\")\n",
    "df_yoga = df_yoga.drop(\"user\")\n",
    "df_yoga = df_yoga.groupBy(\"edad\").count().orderBy(col(\"edad\").asc())\n",
    "df_yoga.show()"
   ]
  },
  {
   "cell_type": "code",
   "execution_count": null,
   "id": "419e554f-2260-4dc2-b155-c9bc9948cfc9",
   "metadata": {},
   "outputs": [
    {
     "name": "stdout",
     "output_type": "stream",
     "text": [
      "+----+-----+\n",
      "|edad|count|\n",
      "+----+-----+\n",
      "|  18|    9|\n",
      "|  19|    9|\n",
      "|  20|   14|\n",
      "|  22|   20|\n",
      "|  27|   10|\n",
      "|  29|    6|\n",
      "|  30|    8|\n",
      "|  36|    7|\n",
      "|  37|    8|\n",
      "|  38|    5|\n",
      "|  39|   18|\n",
      "|  42|   14|\n",
      "|  43|   11|\n",
      "|  44|    8|\n",
      "|  47|    9|\n",
      "|  50|    5|\n",
      "|  51|    9|\n",
      "|  52|    7|\n",
      "|  55|   16|\n",
      "+----+-----+\n",
      "\n"
     ]
    }
   ],
   "source": [
    "df_spi = df_spi.join(df_users, \"user\", \"left_outer\")\n",
    "df_spi = df_spi.drop(\"user\")\n",
    "df_spi = df_spi.groupBy(\"edad\").count().orderBy(col(\"edad\").asc())\n",
    "df_spi.show()"
   ]
  },
  {
   "cell_type": "code",
   "execution_count": null,
   "id": "29429c63-43bf-4000-b812-6a541a0e750b",
   "metadata": {},
   "outputs": [
    {
     "name": "stdout",
     "output_type": "stream",
     "text": [
      "+----+-----+\n",
      "|edad|count|\n",
      "+----+-----+\n",
      "|  18|    2|\n",
      "|  19|    6|\n",
      "|  20|   15|\n",
      "|  22|   14|\n",
      "|  27|    7|\n",
      "|  29|    7|\n",
      "|  30|    9|\n",
      "|  36|   10|\n",
      "|  37|   11|\n",
      "|  38|   13|\n",
      "|  39|   17|\n",
      "|  42|   16|\n",
      "|  43|    5|\n",
      "|  44|   11|\n",
      "|  47|   11|\n",
      "|  50|    9|\n",
      "|  51|   12|\n",
      "|  52|    8|\n",
      "|  55|   17|\n",
      "+----+-----+\n",
      "\n"
     ]
    }
   ],
   "source": [
    "df_pila = df_pila.join(df_users, \"user\", \"left_outer\")\n",
    "df_pila = df_pila.drop(\"user\")\n",
    "df_pila = df_pila.groupBy(\"edad\").count().orderBy(col(\"edad\").asc())\n",
    "df_pila.show()"
   ]
  }
 ],
 "metadata": {
  "kernelspec": {
   "display_name": "Python 3 (ipykernel)",
   "language": "python",
   "name": "python3"
  },
  "language_info": {
   "codemirror_mode": {
    "name": "ipython",
    "version": 3
   },
   "file_extension": ".py",
   "mimetype": "text/x-python",
   "name": "python",
   "nbconvert_exporter": "python",
   "pygments_lexer": "ipython3",
   "version": "3.10.12"
  }
 },
 "nbformat": 4,
 "nbformat_minor": 5
}
